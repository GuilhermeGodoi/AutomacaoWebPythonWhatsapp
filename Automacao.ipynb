{
 "cells": [
  {
   "cell_type": "markdown",
   "id": "26933d4c",
   "metadata": {},
   "source": [
    "# Web Automation with Python (Selenium)"
   ]
  },
  {
   "cell_type": "markdown",
   "id": "816effa2",
   "metadata": {},
   "source": [
    "Python + Selenium"
   ]
  },
  {
   "cell_type": "code",
   "execution_count": 43,
   "id": "26eb5864",
   "metadata": {},
   "outputs": [],
   "source": [
    "from selenium import webdriver  #pip install selenium\n",
    "from selenium.webdriver.common.by import By\n",
    "from selenium.webdriver.common.keys import Keys\n",
    "import time\n",
    "\n",
    "navegador = webdriver.Chrome()\n", #Browser
    "\n",
    "navegador.get(\"https://web.whatsapp.com/\") #Open WebWhatsapp on browser\n",
    "time.sleep(15) #Time to release the QR Code"
   ]
  },
  {
   "cell_type": "markdown",
   "id": "6ebd630d",
   "metadata": {},
   "source": [
    "Change Whatsapp theme to dark"
   ]
  },
  {
   "cell_type": "code",
   "execution_count": null,
   "id": "9ac8108e",
   "metadata": {
    "scrolled": true
   },
   "outputs": [],
   "source": [
    "navegador.find_element_by_xpath('//*[@id=\"side\"]/header/div[2]/div/span/div[3]/div/span').click()\n",
    "navegador.find_element_by_xpath('//*[@id=\"side\"]/header/div[2]/div/span/div[3]/span/div/ul/li[3]/div[1]').click()\n",
    "navegador.find_element_by_xpath('//*[@id=\"app\"]/div/div/div[2]/div[1]/span/div/span/div/div/div[5]/div[2]').click()\n",
    "navegador.find_element_by_xpath('//*[@id=\"app\"]/div/span[2]/div/div/div/div/div/div/div[2]/form/ol/li[2]/label/input').click()\n",
    "navegador.find_element_by_xpath('//*[@id=\"app\"]/div/span[2]/div/div/div/div/div/div/div[3]/div/div[2]').click()\n",
    "navegador.find_element_by_xpath('//*[@id=\"app\"]/div/div/div[2]/div[1]/span/div/span/div/header/div/div[1]/button/span').click()"
   ]
  },
  {
   "cell_type": "markdown",
   "id": "95a06423",
   "metadata": {},
   "source": [
    "Calling a contact"
   ]
  },
  {
   "cell_type": "code",
   "execution_count": null,
   "id": "693eea33",
   "metadata": {},
   "outputs": [],
   "source": [
    "contato = 'Contact'\n",
    "mensagem = 'Message'\n",
    "    \n",
    "campo_pesquisa = navegador.find_element_by_xpath('//*[@id=\"side\"]/div[1]/div/div/div[2]/div/div[2]') #Search bar\n",
    "campo_pesquisa.click()\n",
    "campo_pesquisa.send_keys(contato)\n",
    "campo_pesquisa.send_keys(Keys.ENTER)\n",
    "\n",
    "campo_msg = navegador.find_element_by_xpath('//*[@id=\"main\"]/footer/div[1]/div/span[2]/div/div[2]/div[1]') #Message bar\n",
    "time.sleep(2)\n",
    "\n",
    "campo_msg.send_keys(mensagem)\n",
    "time.sleep(1)\n",
    "\n",
    "enter = navegador.find_element_by_xpath('//*[@id=\"main\"]/footer/div[1]/div/span[2]/div/div[2]/div[2]/button/span')\n",
    "enter.click()\n"
   ]
  }
 ],
 "metadata": {
  "kernelspec": {
   "display_name": "Python 3 (ipykernel)",
   "language": "python",
   "name": "python3"
  },
  "language_info": {
   "codemirror_mode": {
    "name": "ipython",
    "version": 3
   },
   "file_extension": ".py",
   "mimetype": "text/x-python",
   "name": "python",
   "nbconvert_exporter": "python",
   "pygments_lexer": "ipython3",
   "version": "3.9.12"
  }
 },
 "nbformat": 4,
 "nbformat_minor": 5
}
